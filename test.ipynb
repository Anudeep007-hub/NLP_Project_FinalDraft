{
 "cells": [
  {
   "cell_type": "code",
   "execution_count": 1,
   "metadata": {},
   "outputs": [],
   "source": [
    "import numpy as np4\n",
    "import re"
   ]
  },
  {
   "cell_type": "code",
   "execution_count": 2,
   "metadata": {},
   "outputs": [],
   "source": [
    "from CleanText import SentTokenize\n",
    "from  RemoveStopWords import stopWords_removal\n",
    "from PorterStemmer import porter_stemmer"
   ]
  },
  {
   "cell_type": "code",
   "execution_count": 3,
   "metadata": {},
   "outputs": [],
   "source": [
    "sent = \"prabhas is a excelletn actor, the man, the legend, the myth !!! The one and only prabhas\""
   ]
  },
  {
   "cell_type": "code",
   "execution_count": 4,
   "metadata": {},
   "outputs": [
    {
     "name": "stdout",
     "output_type": "stream",
     "text": [
      "first: ['prabhas', 'is', 'a', 'excelletn', 'actor', 'the', 'man', 'the', 'legend', 'the', 'myth', 'the', 'one', 'and', 'only', 'prabhas']\n",
      "After stop words removal: ['prabhas', 'excelletn', 'actor', 'man', 'legend', 'myth', 'one', 'prabhas']\n",
      "After stemming with porters algorithm: ['prabha', 'excelletn', 'actor', 'man', 'legend', 'myth', 'on', 'prabha']\n"
     ]
    }
   ],
   "source": [
    "obj = SentTokenize(phrase=sent) \n",
    "obj = obj.get_tokenized_sentence() \n",
    "print(f\"first: {obj}\")\n",
    "obj = stopWords_removal(tokenized_sentence=obj) \n",
    "obj = obj.get_refined_tokeinzed_sentence()\n",
    "print(f\"After stop words removal: {obj}\")\n",
    "obj = porter_stemmer(tokenised_phrase=obj)\n",
    "obj = obj.get_stemmed_tokens() \n",
    "print(f\"After stemming with porters algorithm: {obj}\")"
   ]
  },
  {
   "cell_type": "code",
   "execution_count": null,
   "metadata": {},
   "outputs": [],
   "source": []
  },
  {
   "cell_type": "code",
   "execution_count": null,
   "metadata": {},
   "outputs": [],
   "source": []
  }
 ],
 "metadata": {
  "kernelspec": {
   "display_name": "nlp",
   "language": "python",
   "name": "python3"
  },
  "language_info": {
   "codemirror_mode": {
    "name": "ipython",
    "version": 3
   },
   "file_extension": ".py",
   "mimetype": "text/x-python",
   "name": "python",
   "nbconvert_exporter": "python",
   "pygments_lexer": "ipython3",
   "version": "3.12.3"
  }
 },
 "nbformat": 4,
 "nbformat_minor": 2
}
